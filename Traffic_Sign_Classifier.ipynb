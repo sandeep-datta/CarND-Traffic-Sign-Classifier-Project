{
 "cells": [
  {
   "cell_type": "markdown",
   "metadata": {},
   "source": [
    "# Self-Driving Car Engineer Nanodegree\n",
    "\n",
    "## Deep Learning\n",
    "\n",
    "## Project: Build a Traffic Sign Recognition Classifier\n",
    "\n",
    "In this notebook, a template is provided for you to implement your functionality in stages, which is required to successfully complete this project. If additional code is required that cannot be included in the notebook, be sure that the Python code is successfully imported and included in your submission if necessary. \n",
    "\n",
    "> **Note**: Once you have completed all of the code implementations, you need to finalize your work by exporting the iPython Notebook as an HTML document. Before exporting the notebook to html, all of the code cells need to have been run so that reviewers can see the final implementation and output. You can then export the notebook by using the menu above and navigating to  \\n\",\n",
    "    \"**File -> Download as -> HTML (.html)**. Include the finished document along with this notebook as your submission. \n",
    "\n",
    "In addition to implementing code, there is a writeup to complete. The writeup should be completed in a separate file, which can be either a markdown file or a pdf document. There is a [write up template](https://github.com/udacity/CarND-Traffic-Sign-Classifier-Project/blob/master/writeup_template.md) that can be used to guide the writing process. Completing the code template and writeup template will cover all of the [rubric points](https://review.udacity.com/#!/rubrics/481/view) for this project.\n",
    "\n",
    "The [rubric](https://review.udacity.com/#!/rubrics/481/view) contains \"Stand Out Suggestions\" for enhancing the project beyond the minimum requirements. The stand out suggestions are optional. If you decide to pursue the \"stand out suggestions\", you can include the code in this Ipython notebook and also discuss the results in the writeup file.\n",
    "\n",
    "\n",
    ">**Note:** Code and Markdown cells can be executed using the **Shift + Enter** keyboard shortcut. In addition, Markdown cells can be edited by typically double-clicking the cell to enter edit mode."
   ]
  },
  {
   "cell_type": "markdown",
   "metadata": {},
   "source": [
    "---\n",
    "## Step 0: Load The Data"
   ]
  },
  {
   "cell_type": "code",
   "execution_count": 1,
   "metadata": {
    "collapsed": true
   },
   "outputs": [],
   "source": [
    "import pickle\n",
    "import random\n",
    "import numpy as np\n",
    "import tensorflow as tf\n",
    "import matplotlib.pyplot as plt\n",
    "\n",
    "from os import path\n",
    "from pprint import pprint\n",
    "from sklearn.utils import shuffle\n",
    "\n",
    "# Visualizations will be shown in the notebook.\n",
    "%matplotlib inline"
   ]
  },
  {
   "cell_type": "code",
   "execution_count": 2,
   "metadata": {
    "collapsed": true
   },
   "outputs": [],
   "source": [
    "# Load pickled data\n",
    "\n",
    "data_folder = \"traffic-signs-data\"\n",
    "\n",
    "training_file = path.join(data_folder, \"train.p\")\n",
    "validation_file= path.join(data_folder, \"valid.p\")\n",
    "testing_file =  path.join(data_folder, \"test.p\")\n",
    "\n",
    "with open(training_file, mode='rb') as f:\n",
    "    train = pickle.load(f)\n",
    "with open(validation_file, mode='rb') as f:\n",
    "    valid = pickle.load(f)\n",
    "with open(testing_file, mode='rb') as f:\n",
    "    test = pickle.load(f)\n",
    "    \n",
    "X_train, y_train = train['features'], train['labels']\n",
    "X_valid, y_valid = valid['features'], valid['labels']\n",
    "X_test, y_test = test['features'], test['labels']"
   ]
  },
  {
   "cell_type": "markdown",
   "metadata": {},
   "source": [
    "---\n",
    "\n",
    "## Step 1: Dataset Summary & Exploration\n",
    "\n",
    "The pickled data is a dictionary with 4 key/value pairs:\n",
    "\n",
    "- `'features'` is a 4D array containing raw pixel data of the traffic sign images, (num examples, width, height, channels).\n",
    "- `'labels'` is a 1D array containing the label/class id of the traffic sign. The file `signnames.csv` contains id -> name mappings for each id.\n",
    "- `'sizes'` is a list containing tuples, (width, height) representing the original width and height the image.\n",
    "- `'coords'` is a list containing tuples, (x1, y1, x2, y2) representing coordinates of a bounding box around the sign in the image. **THESE COORDINATES ASSUME THE ORIGINAL IMAGE. THE PICKLED DATA CONTAINS RESIZED VERSIONS (32 by 32) OF THESE IMAGES**\n",
    "\n",
    "Complete the basic data summary below. Use python, numpy and/or pandas methods to calculate the data summary rather than hard coding the results. For example, the [pandas shape method](http://pandas.pydata.org/pandas-docs/stable/generated/pandas.DataFrame.shape.html) might be useful for calculating some of the summary results. "
   ]
  },
  {
   "cell_type": "markdown",
   "metadata": {},
   "source": [
    "### Provide a Basic Summary of the Data Set Using Python, Numpy and/or Pandas"
   ]
  },
  {
   "cell_type": "code",
   "execution_count": 3,
   "metadata": {},
   "outputs": [
    {
     "name": "stdout",
     "output_type": "stream",
     "text": [
      "Number of training examples = 34799\n",
      "Number of validation examples = 4410\n",
      "Number of testing examples = 12630\n",
      "Image data shape = (32, 32)\n",
      "Number of classes = 43\n"
     ]
    }
   ],
   "source": [
    "# Number of training examples\n",
    "n_train = X_train.shape[0]\n",
    "\n",
    "# Number of validation examples\n",
    "n_validation = X_valid.shape[0]\n",
    "\n",
    "# Number of testing examples.\n",
    "n_test = X_test.shape[0]\n",
    "\n",
    "# The shape of an traffic sign image?\n",
    "image_shape = (X_train.shape[1], X_train.shape[2])\n",
    "\n",
    "# No. of unique classes/labels in the dataset.\n",
    "y_all = np.concatenate([y_train, y_valid, y_test])\n",
    "y_unique = np.unique(y_all)\n",
    "n_classes = len(y_unique) \n",
    "\n",
    "print(\"Number of training examples =\", n_train)\n",
    "print(\"Number of validation examples =\", n_validation)\n",
    "print(\"Number of testing examples =\", n_test)\n",
    "print(\"Image data shape =\", image_shape)\n",
    "print(\"Number of classes =\", n_classes)"
   ]
  },
  {
   "cell_type": "code",
   "execution_count": 4,
   "metadata": {},
   "outputs": [
    {
     "name": "stdout",
     "output_type": "stream",
     "text": [
      "{0: 'Speed limit (20km/h)',\n",
      " 1: 'Speed limit (30km/h)',\n",
      " 2: 'Speed limit (50km/h)',\n",
      " 3: 'Speed limit (60km/h)',\n",
      " 4: 'Speed limit (70km/h)',\n",
      " 5: 'Speed limit (80km/h)',\n",
      " 6: 'End of speed limit (80km/h)',\n",
      " 7: 'Speed limit (100km/h)',\n",
      " 8: 'Speed limit (120km/h)',\n",
      " 9: 'No passing',\n",
      " 10: 'No passing for vehicles over 3.5 metric tons',\n",
      " 11: 'Right-of-way at the next intersection',\n",
      " 12: 'Priority road',\n",
      " 13: 'Yield',\n",
      " 14: 'Stop',\n",
      " 15: 'No vehicles',\n",
      " 16: 'Vehicles over 3.5 metric tons prohibited',\n",
      " 17: 'No entry',\n",
      " 18: 'General caution',\n",
      " 19: 'Dangerous curve to the left',\n",
      " 20: 'Dangerous curve to the right',\n",
      " 21: 'Double curve',\n",
      " 22: 'Bumpy road',\n",
      " 23: 'Slippery road',\n",
      " 24: 'Road narrows on the right',\n",
      " 25: 'Road work',\n",
      " 26: 'Traffic signals',\n",
      " 27: 'Pedestrians',\n",
      " 28: 'Children crossing',\n",
      " 29: 'Bicycles crossing',\n",
      " 30: 'Beware of ice/snow',\n",
      " 31: 'Wild animals crossing',\n",
      " 32: 'End of all speed and passing limits',\n",
      " 33: 'Turn right ahead',\n",
      " 34: 'Turn left ahead',\n",
      " 35: 'Ahead only',\n",
      " 36: 'Go straight or right',\n",
      " 37: 'Go straight or left',\n",
      " 38: 'Keep right',\n",
      " 39: 'Keep left',\n",
      " 40: 'Roundabout mandatory',\n",
      " 41: 'End of no passing',\n",
      " 42: 'End of no passing by vehicles over 3.5 metric tons'}\n"
     ]
    }
   ],
   "source": [
    "sign_names_file =  \"signnames.csv\"\n",
    "\n",
    "sign_name = {}\n",
    "\n",
    "with open(sign_names_file) as f:\n",
    "    for line in f.read().splitlines()[1:]:\n",
    "        num, name = line.split(\",\")\n",
    "        sign_name[int(num)] = name.strip()\n",
    "        \n",
    "pprint(sign_name)"
   ]
  },
  {
   "cell_type": "markdown",
   "metadata": {},
   "source": [
    "### Include an exploratory visualization of the dataset"
   ]
  },
  {
   "cell_type": "markdown",
   "metadata": {},
   "source": [
    "Visualize the German Traffic Signs Dataset using the pickled file(s). This is open ended, suggestions include: plotting traffic sign images, plotting the count of each sign, etc. \n",
    "\n",
    "The [Matplotlib](http://matplotlib.org/) [examples](http://matplotlib.org/examples/index.html) and [gallery](http://matplotlib.org/gallery.html) pages are a great resource for doing visualizations in Python.\n",
    "\n",
    "**NOTE:** It's recommended you start with something simple first. If you wish to do more, come back to it after you've completed the rest of the sections. It can be interesting to look at the distribution of classes in the training, validation and test set. Is the distribution the same? Are there more examples of some classes than others?"
   ]
  },
  {
   "cell_type": "markdown",
   "metadata": {},
   "source": [
    "#### Frequency v/s class plots"
   ]
  },
  {
   "cell_type": "code",
   "execution_count": 5,
   "metadata": {},
   "outputs": [
    {
     "data": {
      "image/png": "[encoded data removed]",
      "text/plain": [
       "<matplotlib.figure.Figure at 0x7fb501832f98>"
      ]
     },
     "metadata": {},
     "output_type": "display_data"
    },
    {
     "data": {
      "image/png": "[encoded data removed]",
      "text/plain": [
       "<matplotlib.figure.Figure at 0x7fb5016e7e10>"
      ]
     },
     "metadata": {},
     "output_type": "display_data"
    },
    {
     "data": {
      "image/png": "[encoded data removed]",
      "text/plain": [
       "<matplotlib.figure.Figure at 0x7fb5016c9588>"
      ]
     },
     "metadata": {},
     "output_type": "display_data"
    }
   ],
   "source": [
    "def plot_freq(data, data_set_name):\n",
    "    uniq, counts = np.unique(data, return_counts=True)\n",
    "    \n",
    "    fig, ax = plt.subplots()\n",
    "    ax.bar(uniq, counts)\n",
    "    \n",
    "    ax.set_xlabel('Class')\n",
    "    ax.set_ylabel('Frequency')\n",
    "    ax.set_title('Traffic sign frequencies ({})'.format(data_set_name))\n",
    "    \n",
    "    # Tweak spacing to prevent clipping of ylabel\n",
    "    fig.tight_layout()\n",
    "    plt.show()\n",
    "    \n",
    "for d, dsn in [(y_train, \"training\"), (y_valid, \"validation\"), (y_test, \"test\")]:\n",
    "    plot_freq(d, dsn)"
   ]
  },
  {
   "cell_type": "markdown",
   "metadata": {},
   "source": [
    "----\n",
    "\n",
    "## Step 2: Design and Test a Model Architecture\n",
    "\n",
    "Design and implement a deep learning model that learns to recognize traffic signs. Train and test your model on the [German Traffic Sign Dataset](http://benchmark.ini.rub.de/?section=gtsrb&subsection=dataset).\n",
    "\n",
    "The LeNet-5 implementation shown in the [classroom](https://classroom.udacity.com/nanodegrees/nd013/parts/fbf77062-5703-404e-b60c-95b78b2f3f9e/modules/6df7ae49-c61c-4bb2-a23e-6527e69209ec/lessons/601ae704-1035-4287-8b11-e2c2716217ad/concepts/d4aca031-508f-4e0b-b493-e7b706120f81) at the end of the CNN lesson is a solid starting point. You'll have to change the number of classes and possibly the preprocessing, but aside from that it's plug and play! \n",
    "\n",
    "With the LeNet-5 solution from the lecture, you should expect a validation set accuracy of about 0.89. To meet specifications, the validation set accuracy will need to be at least 0.93. It is possible to get an even higher accuracy, but 0.93 is the minimum for a successful project submission. \n",
    "\n",
    "There are various aspects to consider when thinking about this problem:\n",
    "\n",
    "- Neural network architecture (is the network over or underfitting?)\n",
    "- Play around preprocessing techniques (normalization, rgb to grayscale, etc)\n",
    "- Number of examples per label (some have more than others).\n",
    "- Generate fake data.\n",
    "\n",
    "Here is an example of a [published baseline model on this problem](http://yann.lecun.com/exdb/publis/pdf/sermanet-ijcnn-11.pdf). It's not required to be familiar with the approach used in the paper but, it's good practice to try to read papers like these."
   ]
  },
  {
   "cell_type": "markdown",
   "metadata": {},
   "source": [
    "### Pre-process the Data Set (normalization, grayscale, etc.)"
   ]
  },
  {
   "cell_type": "markdown",
   "metadata": {},
   "source": [
    "Minimally, the image data should be normalized so that the data has mean zero and equal variance. For image data, `(pixel - 128)/ 128` is a quick way to approximately normalize the data and can be used in this project. \n",
    "\n",
    "Other pre-processing steps are optional. You can try different techniques to see if it improves performance. \n",
    "\n",
    "Use the code cell (or multiple code cells, if necessary) to implement the first step of your project."
   ]
  },
  {
   "cell_type": "code",
   "execution_count": 6,
   "metadata": {
    "collapsed": true
   },
   "outputs": [],
   "source": [
    "def enhance_contrast(img):\n",
    "    img_min = np.amin(img)\n",
    "    img_max = np.amax(img)\n",
    "    scale = 255/(img_max - img_min)\n",
    "    img = scale * (img - img_min)\n",
    "    return img\n",
    "\n",
    "def normalize_img(img):\n",
    "    img = (img / 255 - 0.5)\n",
    "    return img\n",
    "\n",
    "def to_grayscale(img):\n",
    "    # Convert to grayscale.\n",
    "    assert(img.shape[2] == 3) # Input must be a 3 channel (RGB) image\n",
    "    img = np.dot(img[...,:3], [0.299, 0.587, 0.114])\n",
    "    return img[..., np.newaxis]\n",
    "\n",
    "def preprocess(images):\n",
    "    outp = []\n",
    "    for img in images:\n",
    "        img = to_grayscale(img)\n",
    "        img = enhance_contrast(img)\n",
    "        img = normalize_img(img)\n",
    "        outp.append(img)\n",
    "    return np.asarray(outp)"
   ]
  },
  {
   "cell_type": "markdown",
   "metadata": {},
   "source": [
    "#### Sample image before preprocessing"
   ]
  },
  {
   "cell_type": "code",
   "execution_count": 7,
   "metadata": {},
   "outputs": [
    {
     "data": {
      "image/png": "[encoded data removed]",
      "text/plain": [
       "<matplotlib.figure.Figure at 0x7fb501628748>"
      ]
     },
     "metadata": {},
     "output_type": "display_data"
    },
    {
     "name": "stdout",
     "output_type": "stream",
     "text": [
      "Speed limit (50km/h) (=2)\n"
     ]
    }
   ],
   "source": [
    "index = random.randint(0, len(X_train))\n",
    "image = X_train[index].squeeze()\n",
    "\n",
    "plt.imshow(image)\n",
    "plt.show()\n",
    "print(\"{} (={})\".format(sign_name[y_train[index]], y_train[index]))"
   ]
  },
  {
   "cell_type": "markdown",
   "metadata": {},
   "source": [
    "#### Preprocess"
   ]
  },
  {
   "cell_type": "code",
   "execution_count": 8,
   "metadata": {},
   "outputs": [
    {
     "name": "stdout",
     "output_type": "stream",
     "text": [
      "(34799, 32, 32, 1)\n"
     ]
    }
   ],
   "source": [
    "X_train = preprocess(X_train)\n",
    "X_valid = preprocess(X_valid)\n",
    "X_test = preprocess(X_test)\n",
    "\n",
    "print(X_train.shape)"
   ]
  },
  {
   "cell_type": "markdown",
   "metadata": {},
   "source": [
    "#### Sample image post preprocessing"
   ]
  },
  {
   "cell_type": "code",
   "execution_count": 9,
   "metadata": {},
   "outputs": [
    {
     "data": {
      "image/png": "[encoded data removed]",
      "text/plain": [
       "<matplotlib.figure.Figure at 0x7fb50161c240>"
      ]
     },
     "metadata": {},
     "output_type": "display_data"
    },
    {
     "name": "stdout",
     "output_type": "stream",
     "text": [
      "Speed limit (50km/h) (= 2)\n"
     ]
    }
   ],
   "source": [
    "image = X_train[index].squeeze()\n",
    "# plt.figure(figsize=(1,1))\n",
    "plt.imshow(image, cmap='gray')\n",
    "plt.show()\n",
    "print(\"{} (= {})\".format(sign_name[y_train[index]], y_train[index]))"
   ]
  },
  {
   "cell_type": "markdown",
   "metadata": {},
   "source": [
    "### Model Architecture"
   ]
  },
  {
   "cell_type": "code",
   "execution_count": 10,
   "metadata": {
    "collapsed": true
   },
   "outputs": [],
   "source": [
    "from tensorflow.contrib.layers import flatten\n",
    "\n",
    "def get_model(x, keep_prob):    \n",
    "    # Arguments used for tf.truncated_normal, randomly defines variables for the weights and biases for each layer\n",
    "    mu = 0\n",
    "    sigma = 0.09\n",
    "    \n",
    "    # Layer 1: Convolutional. Input = 32x32x1. Output = 28x28x108.\n",
    "    conv1_W = tf.Variable(tf.truncated_normal(shape=(5, 5, 1, 108), mean = mu, stddev = sigma))\n",
    "    conv1_b = tf.Variable(tf.zeros(108))\n",
    "    conv1   = tf.nn.conv2d(x, conv1_W, strides=[1, 1, 1, 1], padding='VALID') + conv1_b\n",
    "    print(conv1)\n",
    "\n",
    "    # Activation.\n",
    "    conv1 = tf.nn.relu(conv1)\n",
    "\n",
    "    # Pooling. Input = 28x28x108. Output = 14x14x108.\n",
    "    conv1 = tf.nn.max_pool(conv1, ksize=[1, 2, 2, 1], strides=[1, 2, 2, 1], padding='VALID')\n",
    "    print(conv1)\n",
    "    \n",
    "    # Layer 2: Convolutional. Output = 10x10x108.\n",
    "    conv2_W = tf.Variable(tf.truncated_normal(shape=(5, 5, 108, 108), mean = mu, stddev = sigma))\n",
    "    conv2_b = tf.Variable(tf.zeros(108))\n",
    "    conv2   = tf.nn.conv2d(conv1, conv2_W, strides=[1, 1, 1, 1], padding='VALID') + conv2_b\n",
    "    print(conv2)\n",
    "    \n",
    "    # Activation.\n",
    "    conv2 = tf.nn.relu(conv2)\n",
    "\n",
    "    # Pooling. Input = 10x10x108. Output = 5x5x108.\n",
    "    conv2 = tf.nn.max_pool(conv2, ksize=[1, 2, 2, 1], strides=[1, 2, 2, 1], padding='VALID')\n",
    "    \n",
    "    # Downsample conv1 again. Pooling. Input = 14x14x108. Output = 7x7x108.\n",
    "    conv1 = tf.nn.max_pool(conv1, ksize=[1, 2, 2, 1], strides=[1, 2, 2, 1], padding='VALID')\n",
    "    print(conv1)\n",
    "    \n",
    "    # Concat conv1 and conv2 and flatten.\n",
    "    # Input = 7x7x108 + 5x5x108. Output = 7992.\n",
    "    fc0   = tf.concat([flatten(conv1), flatten(conv2)], axis = 1)\n",
    "    \n",
    "    # Layer 3: Fully Connected. Input = 7992. Output = 208.\n",
    "    fc1_W = tf.Variable(tf.truncated_normal(shape=(7992, 208), mean = mu, stddev = sigma))\n",
    "    fc1_b = tf.Variable(tf.zeros(208))\n",
    "    fc1   = tf.matmul(fc0, fc1_W) + fc1_b\n",
    "    \n",
    "    # Activation.\n",
    "    fc1    = tf.nn.relu(fc1)\n",
    "    \n",
    "    # Dropout\n",
    "    fc1    = tf.nn.dropout(fc1, keep_prob)\n",
    "\n",
    "    # Layer 4: Fully Connected. Input = 208. Output = 146.\n",
    "    fc2_W  = tf.Variable(tf.truncated_normal(shape=(208, 146), mean = mu, stddev = sigma))\n",
    "    fc2_b  = tf.Variable(tf.zeros(146))\n",
    "    fc2    = tf.matmul(fc1, fc2_W) + fc2_b\n",
    "    \n",
    "    # Activation.\n",
    "    fc2    = tf.nn.relu(fc2)\n",
    "    \n",
    "    # Dropout\n",
    "    fc2    = tf.nn.dropout(fc2, keep_prob)\n",
    "\n",
    "    # Layer 5: Fully Connected. Input = 146. Output = 10.\n",
    "    fc3_W  = tf.Variable(tf.truncated_normal(shape=(146, 43), mean = mu, stddev = sigma))\n",
    "    fc3_b  = tf.Variable(tf.zeros(43))\n",
    "    logits = tf.matmul(fc2, fc3_W) + fc3_b\n",
    "    \n",
    "    return logits"
   ]
  },
  {
   "cell_type": "markdown",
   "metadata": {},
   "source": [
    "### Train, Validate and Test the Model"
   ]
  },
  {
   "cell_type": "markdown",
   "metadata": {},
   "source": [
    "A validation set can be used to assess how well the model is performing. A low accuracy on the training and validation\n",
    "sets imply underfitting. A high accuracy on the training set but low accuracy on the validation set implies overfitting."
   ]
  },
  {
   "cell_type": "markdown",
   "metadata": {},
   "source": [
    "#### Features and Labels\n",
    "\n",
    "- `x` is a placeholder for a batch of input images.\n",
    "- `y` is a placeholder for a batch of output labels.\n",
    "- `keep_prob` is a placeholder for probability of keeping units in dropout. Parameterizing this in the model will allow the same model to be used for both training and evaluation.\n",
    "- `one_hot_y` is the one-hot representation of `y`"
   ]
  },
  {
   "cell_type": "code",
   "execution_count": 11,
   "metadata": {
    "collapsed": true
   },
   "outputs": [],
   "source": [
    "x = tf.placeholder(tf.float32, (None, 32, 32, 1))\n",
    "keep_prob = tf.placeholder(tf.float32)\n",
    "y = tf.placeholder(tf.int32, (None))\n",
    "one_hot_y = tf.one_hot(y, 43)"
   ]
  },
  {
   "cell_type": "markdown",
   "metadata": {},
   "source": [
    "#### Training Pipeline"
   ]
  },
  {
   "cell_type": "code",
   "execution_count": 12,
   "metadata": {
    "scrolled": false
   },
   "outputs": [
    {
     "name": "stdout",
     "output_type": "stream",
     "text": [
      "Tensor(\"add:0\", shape=(?, 28, 28, 108), dtype=float32)\n",
      "Tensor(\"MaxPool:0\", shape=(?, 14, 14, 108), dtype=float32)\n",
      "Tensor(\"add_1:0\", shape=(?, 10, 10, 108), dtype=float32)\n",
      "Tensor(\"MaxPool_2:0\", shape=(?, 7, 7, 108), dtype=float32)\n",
      "Tensor(\"add_4:0\", shape=(?, 43), dtype=float32)\n"
     ]
    }
   ],
   "source": [
    "rate = 0.001\n",
    "logits = get_model(x, keep_prob)\n",
    "print(logits)\n",
    "cross_entropy = tf.nn.softmax_cross_entropy_with_logits(labels=one_hot_y, logits=logits)\n",
    "loss_operation = tf.reduce_mean(cross_entropy)\n",
    "optimizer = tf.train.AdamOptimizer(learning_rate = rate)\n",
    "training_operation = optimizer.minimize(loss_operation)"
   ]
  },
  {
   "cell_type": "markdown",
   "metadata": {},
   "source": [
    "#### Model Evaluation\n",
    "Evaluate how well the loss and accuracy of the model for a given dataset."
   ]
  },
  {
   "cell_type": "code",
   "execution_count": 13,
   "metadata": {
    "collapsed": true
   },
   "outputs": [],
   "source": [
    "correct_prediction = tf.equal(tf.argmax(logits, 1), tf.argmax(one_hot_y, 1))\n",
    "accuracy_operation = tf.reduce_mean(tf.cast(correct_prediction, tf.float32))\n",
    "saver = tf.train.Saver()\n",
    "\n",
    "def evaluate(X_data, y_data):\n",
    "    num_examples = len(X_data)\n",
    "    total_accuracy = 0\n",
    "    sess = tf.get_default_session()\n",
    "    for offset in range(0, num_examples, BATCH_SIZE):\n",
    "        batch_x, batch_y = X_data[offset:offset+BATCH_SIZE], y_data[offset:offset+BATCH_SIZE]\n",
    "        accuracy = sess.run(accuracy_operation, feed_dict={x: batch_x, y: batch_y, keep_prob: 1.0})\n",
    "        total_accuracy += (accuracy * len(batch_x))\n",
    "    return total_accuracy / num_examples"
   ]
  },
  {
   "cell_type": "markdown",
   "metadata": {},
   "source": [
    "#### Train the Model\n",
    "\n",
    "- Run the training data through the training pipeline to train the model.\n",
    "- Before each epoch, shuffle the training set.\n",
    "- After each epoch, measure the loss and accuracy of the validation set.\n",
    "- Save the model after training."
   ]
  },
  {
   "cell_type": "code",
   "execution_count": 23,
   "metadata": {
    "scrolled": false
   },
   "outputs": [
    {
     "name": "stdout",
     "output_type": "stream",
     "text": [
      "Training...\n",
      "\n",
      "EPOCH 1 ...\n",
      "Training Accuracy = 0.7204\n",
      "Validation Accuracy = 0.6454\n",
      "\n",
      "EPOCH 2 ...\n",
      "Training Accuracy = 0.9138\n",
      "Validation Accuracy = 0.8544\n",
      "\n",
      "EPOCH 3 ...\n",
      "Training Accuracy = 0.9630\n",
      "Validation Accuracy = 0.9138\n",
      "\n",
      "EPOCH 4 ...\n",
      "Training Accuracy = 0.9783\n",
      "Validation Accuracy = 0.9451\n",
      "\n",
      "EPOCH 5 ...\n",
      "Training Accuracy = 0.9849\n",
      "Validation Accuracy = 0.9404\n",
      "\n",
      "EPOCH 6 ...\n",
      "Training Accuracy = 0.9895\n",
      "Validation Accuracy = 0.9481\n",
      "\n",
      "EPOCH 7 ...\n",
      "Training Accuracy = 0.9914\n",
      "Validation Accuracy = 0.9515\n",
      "\n",
      "EPOCH 8 ...\n",
      "Training Accuracy = 0.9918\n",
      "Validation Accuracy = 0.9542\n",
      "\n",
      "EPOCH 9 ...\n",
      "Training Accuracy = 0.9962\n",
      "Validation Accuracy = 0.9617\n",
      "\n",
      "EPOCH 10 ...\n",
      "Training Accuracy = 0.9963\n",
      "Validation Accuracy = 0.9676\n",
      "\n",
      "EPOCH 11 ...\n",
      "Training Accuracy = 0.9971\n",
      "Validation Accuracy = 0.9728\n",
      "\n",
      "EPOCH 12 ...\n",
      "Training Accuracy = 0.9969\n",
      "Validation Accuracy = 0.9662\n",
      "\n",
      "EPOCH 13 ...\n",
      "Training Accuracy = 0.9986\n",
      "Validation Accuracy = 0.9678\n",
      "\n",
      "EPOCH 14 ...\n",
      "Training Accuracy = 0.9984\n",
      "Validation Accuracy = 0.9678\n",
      "\n",
      "EPOCH 15 ...\n",
      "Training Accuracy = 0.9987\n",
      "Validation Accuracy = 0.9748\n",
      "\n",
      "EPOCH 16 ...\n",
      "Training Accuracy = 0.9982\n",
      "Validation Accuracy = 0.9644\n",
      "\n",
      "EPOCH 17 ...\n",
      "Training Accuracy = 0.9989\n",
      "Validation Accuracy = 0.9703\n",
      "\n",
      "EPOCH 18 ...\n",
      "Training Accuracy = 0.9992\n",
      "Validation Accuracy = 0.9819\n",
      "\n",
      "EPOCH 19 ...\n",
      "Training Accuracy = 0.9991\n",
      "Validation Accuracy = 0.9717\n",
      "\n",
      "EPOCH 20 ...\n",
      "Training Accuracy = 0.9991\n",
      "Validation Accuracy = 0.9685\n",
      "\n",
      "EPOCH 21 ...\n",
      "Training Accuracy = 0.9994\n",
      "Validation Accuracy = 0.9803\n",
      "\n",
      "EPOCH 22 ...\n",
      "Training Accuracy = 0.9994\n",
      "Validation Accuracy = 0.9760\n",
      "\n",
      "EPOCH 23 ...\n",
      "Training Accuracy = 0.9995\n",
      "Validation Accuracy = 0.9710\n",
      "\n",
      "EPOCH 24 ...\n",
      "Training Accuracy = 0.9996\n",
      "Validation Accuracy = 0.9769\n",
      "\n",
      "EPOCH 25 ...\n",
      "Training Accuracy = 0.9998\n",
      "Validation Accuracy = 0.9819\n",
      "\n",
      "EPOCH 26 ...\n",
      "Training Accuracy = 0.9998\n",
      "Validation Accuracy = 0.9805\n",
      "\n",
      "EPOCH 27 ...\n",
      "Training Accuracy = 0.9998\n",
      "Validation Accuracy = 0.9810\n",
      "\n",
      "EPOCH 28 ...\n",
      "Training Accuracy = 0.9998\n",
      "Validation Accuracy = 0.9782\n",
      "\n",
      "EPOCH 29 ...\n",
      "Training Accuracy = 0.9998\n",
      "Validation Accuracy = 0.9744\n",
      "\n",
      "EPOCH 30 ...\n",
      "Training Accuracy = 0.9997\n",
      "Validation Accuracy = 0.9837\n",
      "\n",
      "EPOCH 31 ...\n",
      "Training Accuracy = 0.9996\n",
      "Validation Accuracy = 0.9823\n",
      "\n",
      "EPOCH 32 ...\n",
      "Training Accuracy = 0.9999\n",
      "Validation Accuracy = 0.9714\n",
      "\n",
      "EPOCH 33 ...\n",
      "Training Accuracy = 0.9998\n",
      "Validation Accuracy = 0.9857\n",
      "\n",
      "EPOCH 34 ...\n",
      "Training Accuracy = 0.9997\n",
      "Validation Accuracy = 0.9789\n",
      "\n",
      "EPOCH 35 ...\n",
      "Training Accuracy = 0.9999\n",
      "Validation Accuracy = 0.9800\n",
      "\n",
      "Model saved\n"
     ]
    }
   ],
   "source": [
    "### Train your model here.\n",
    "### Calculate and report the accuracy on the training and validation set.\n",
    "### Once a final model architecture is selected, \n",
    "### the accuracy on the test set should be calculated and reported as well.\n",
    "### Feel free to use as many code cells as needed.\n",
    "\n",
    "EPOCHS = 100\n",
    "BATCH_SIZE = 256\n",
    "\n",
    "with tf.Session() as sess:\n",
    "    sess.run(tf.global_variables_initializer())\n",
    "    num_examples = len(X_train)\n",
    "    \n",
    "    print(\"Training...\")\n",
    "    print()\n",
    "    for i in range(EPOCHS):\n",
    "        X_train, y_train = shuffle(X_train, y_train)\n",
    "        for offset in range(0, num_examples, BATCH_SIZE):\n",
    "            end = offset + BATCH_SIZE\n",
    "            batch_x, batch_y = X_train[offset:end], y_train[offset:end]\n",
    "            sess.run(training_operation, feed_dict={x: batch_x, y: batch_y, keep_prob: 0.5})\n",
    "        \n",
    "        training_accuracy = evaluate(X_train, y_train)\n",
    "        validation_accuracy = evaluate(X_valid, y_valid)\n",
    "        print(\"EPOCH {} ...\".format(i+1))\n",
    "        print(\"Training Accuracy = {:.4f}\".format(training_accuracy))\n",
    "        print(\"Validation Accuracy = {:.4f}\".format(validation_accuracy))\n",
    "        print()\n",
    "        if training_accuracy >= 0.9999:\n",
    "            # Training accuracy is now ~1.0. We might be in danger of overfitting the model to the data.\n",
    "            # Also any further training may cause the validation set to leak into the model without \n",
    "            # improving realworld accuracy.\n",
    "            break\n",
    "        \n",
    "    saver.save(sess, './tsc')\n",
    "    print(\"Model saved\")"
   ]
  },
  {
   "cell_type": "markdown",
   "metadata": {},
   "source": [
    "#### Evaluate the Model on the test data set"
   ]
  },
  {
   "cell_type": "code",
   "execution_count": 35,
   "metadata": {
    "collapsed": true
   },
   "outputs": [],
   "source": [
    "def print_accuracy(x, y):\n",
    "    with tf.Session() as sess:\n",
    "        saver.restore(sess, './tsc')\n",
    "\n",
    "        test_accuracy = evaluate(x, y)\n",
    "        print(\"Accuracy = {:.4f}\".format(test_accuracy))"
   ]
  },
  {
   "cell_type": "markdown",
   "metadata": {},
   "source": [
    "#### Test set accuracy"
   ]
  },
  {
   "cell_type": "code",
   "execution_count": 36,
   "metadata": {
    "scrolled": false
   },
   "outputs": [
    {
     "name": "stdout",
     "output_type": "stream",
     "text": [
      "INFO:tensorflow:Restoring parameters from ./tsc\n",
      "Accuracy = 0.9618\n"
     ]
    }
   ],
   "source": [
    "print_accuracy(X_test, y_test)"
   ]
  },
  {
   "cell_type": "markdown",
   "metadata": {},
   "source": [
    "---\n",
    "\n",
    "## Step 3: Test a Model on New Images\n",
    "\n",
    "To give yourself more insight into how your model is working, download at least five pictures of German traffic signs from the web and use your model to predict the traffic sign type.\n",
    "\n",
    "You may find `signnames.csv` useful as it contains mappings from the class id (integer) to the actual sign name."
   ]
  },
  {
   "cell_type": "markdown",
   "metadata": {},
   "source": [
    "### Load and Output the Images"
   ]
  },
  {
   "cell_type": "code",
   "execution_count": 26,
   "metadata": {
    "collapsed": true
   },
   "outputs": [],
   "source": [
    "from glob import glob\n",
    "import scipy.ndimage as ndimg\n",
    "\n",
    "X_extra = []\n",
    "y_extra = []\n",
    "for img_path in glob(\"extra_signs/*.png\"):\n",
    "    bn = path.basename(img_path)\n",
    "    cls = int(path.splitext(bn)[0].split('_')[0])\n",
    "    y_extra.append(cls)\n",
    "    img = ndimg.imread(img_path)\n",
    "    X_extra.append(img)\n",
    "    \n",
    "X_extra = np.array(X_extra)\n",
    "y_extra = np.array(y_extra)"
   ]
  },
  {
   "cell_type": "code",
   "execution_count": 27,
   "metadata": {
    "collapsed": true
   },
   "outputs": [],
   "source": [
    "import math\n",
    "\n",
    "def plot_images(images, titles, c_max = 5):\n",
    "    n = images.shape[0]\n",
    "    n_cols = min(c_max, n)\n",
    "    n_rows = int(math.ceil(n / c_max))\n",
    "    \n",
    "    f, axarr = plt.subplots(n_rows, n_cols)\n",
    "    axarr = axarr.reshape(n_rows, n_cols) # Required when n_rows=1\n",
    "    \n",
    "    for r in range(n_rows):\n",
    "        for c in range(n_cols):\n",
    "            i = r * n_cols + c\n",
    "\n",
    "            if i < n:\n",
    "                if images.shape[3] == 3:\n",
    "                    axarr[r,c].imshow(images[i])\n",
    "                else:\n",
    "                    axarr[r,c].imshow(images[i].squeeze(), cmap='gray')\n",
    "                axarr[r,c].set_title(str(titles[i]))\n",
    "            else:\n",
    "                axarr[r,c].axis('off')\n",
    "                \n",
    "    f.tight_layout()"
   ]
  },
  {
   "cell_type": "code",
   "execution_count": 28,
   "metadata": {},
   "outputs": [
    {
     "data": {
      "image/png": "[encoded data removed]",
      "text/plain": [
       "<matplotlib.figure.Figure at 0x7fb4bc74f668>"
      ]
     },
     "metadata": {},
     "output_type": "display_data"
    }
   ],
   "source": [
    "plot_images(X_extra, y_extra, 3)"
   ]
  },
  {
   "cell_type": "markdown",
   "metadata": {},
   "source": [
    "### Predict the Sign Type for Each Image"
   ]
  },
  {
   "cell_type": "code",
   "execution_count": 29,
   "metadata": {},
   "outputs": [
    {
     "name": "stdout",
     "output_type": "stream",
     "text": [
      "(7, 32, 32, 1)\n"
     ]
    }
   ],
   "source": [
    "X_extra_p = preprocess(X_extra)\n",
    "print(X_extra_p.shape)"
   ]
  },
  {
   "cell_type": "code",
   "execution_count": 30,
   "metadata": {},
   "outputs": [
    {
     "data": {
      "image/png": "[encoded data removed]",
      "text/plain": [
       "<matplotlib.figure.Figure at 0x7fb4bc74fc18>"
      ]
     },
     "metadata": {},
     "output_type": "display_data"
    }
   ],
   "source": [
    "plot_images(X_extra_p, y_extra, 3)"
   ]
  },
  {
   "cell_type": "markdown",
   "metadata": {},
   "source": [
    "#### Predictions for the extra signs"
   ]
  },
  {
   "cell_type": "code",
   "execution_count": 31,
   "metadata": {
    "scrolled": false
   },
   "outputs": [
    {
     "name": "stdout",
     "output_type": "stream",
     "text": [
      "INFO:tensorflow:Restoring parameters from ./tsc\n",
      "Predictions: [14  8  7 12 25 11 33]\n"
     ]
    }
   ],
   "source": [
    "with tf.Session() as sess:\n",
    "    saver.restore(sess, './tsc')\n",
    "    outp = tf.argmax(logits, axis=1)\n",
    "    print(\"Predictions:\", sess.run(outp, feed_dict={x: X_extra_p, y: y_extra, keep_prob: 1.0}))"
   ]
  },
  {
   "cell_type": "markdown",
   "metadata": {},
   "source": [
    "### Analyze Performance"
   ]
  },
  {
   "cell_type": "code",
   "execution_count": 32,
   "metadata": {},
   "outputs": [
    {
     "name": "stdout",
     "output_type": "stream",
     "text": [
      "INFO:tensorflow:Restoring parameters from ./tsc\n",
      "Accuracy = 0.857\n"
     ]
    }
   ],
   "source": [
    "print_accuracy(X_extra_p, y_extra)"
   ]
  },
  {
   "cell_type": "markdown",
   "metadata": {},
   "source": [
    "### Output Top 5 Softmax Probabilities For Each Image Found on the Web"
   ]
  },
  {
   "cell_type": "markdown",
   "metadata": {},
   "source": [
    "For each of the new images, print out the model's softmax probabilities to show the **certainty** of the model's predictions (limit the output to the top 5 probabilities for each image). [`tf.nn.top_k`](https://www.tensorflow.org/versions/r0.12/api_docs/python/nn.html#top_k) could prove helpful here. \n",
    "\n",
    "The example below demonstrates how tf.nn.top_k can be used to find the top k predictions for each image.\n",
    "\n",
    "`tf.nn.top_k` will return the values and indices (class ids) of the top k predictions. So if k=3, for each sign, it'll return the 3 largest probabilities (out of a possible 43) and the correspoding class ids.\n",
    "\n",
    "Take this numpy array as an example. The values in the array represent predictions. The array contains softmax probabilities for five candidate images with six possible classes. `tf.nn.top_k` is used to choose the three classes with the highest probability:\n",
    "\n",
    "```\n",
    "# (5, 6) array\n",
    "a = np.array([[ 0.24879643,  0.07032244,  0.12641572,  0.34763842,  0.07893497,\n",
    "         0.12789202],\n",
    "       [ 0.28086119,  0.27569815,  0.08594638,  0.0178669 ,  0.18063401,\n",
    "         0.15899337],\n",
    "       [ 0.26076848,  0.23664738,  0.08020603,  0.07001922,  0.1134371 ,\n",
    "         0.23892179],\n",
    "       [ 0.11943333,  0.29198961,  0.02605103,  0.26234032,  0.1351348 ,\n",
    "         0.16505091],\n",
    "       [ 0.09561176,  0.34396535,  0.0643941 ,  0.16240774,  0.24206137,\n",
    "         0.09155967]])\n",
    "```\n",
    "\n",
    "Running it through `sess.run(tf.nn.top_k(tf.constant(a), k=3))` produces:\n",
    "\n",
    "```\n",
    "TopKV2(values=array([[ 0.34763842,  0.24879643,  0.12789202],\n",
    "       [ 0.28086119,  0.27569815,  0.18063401],\n",
    "       [ 0.26076848,  0.23892179,  0.23664738],\n",
    "       [ 0.29198961,  0.26234032,  0.16505091],\n",
    "       [ 0.34396535,  0.24206137,  0.16240774]]), indices=array([[3, 0, 5],\n",
    "       [0, 1, 4],\n",
    "       [0, 5, 1],\n",
    "       [1, 3, 5],\n",
    "       [1, 4, 3]], dtype=int32))\n",
    "```\n",
    "\n",
    "Looking just at the first row we get `[ 0.34763842,  0.24879643,  0.12789202]`, you can confirm these are the 3 largest probabilities in `a`. You'll also notice `[3, 0, 5]` are the corresponding indices."
   ]
  },
  {
   "cell_type": "code",
   "execution_count": 33,
   "metadata": {},
   "outputs": [
    {
     "name": "stdout",
     "output_type": "stream",
     "text": [
      "INFO:tensorflow:Restoring parameters from ./tsc\n"
     ]
    }
   ],
   "source": [
    "top_5 = None\n",
    "with tf.Session() as sess:\n",
    "    saver.restore(sess, './tsc')\n",
    "    smax = tf.nn.softmax(logits)\n",
    "    cg_top_5 = tf.nn.top_k(smax, k=5)\n",
    "    top_5 = sess.run(cg_top_5, feed_dict={x: X_extra_p, y: y_extra, keep_prob: 1.0})\n"
   ]
  },
  {
   "cell_type": "code",
   "execution_count": 34,
   "metadata": {
    "scrolled": false
   },
   "outputs": [
    {
     "data": {
      "image/png": "[encoded data removed]",
      "text/plain": [
       "<matplotlib.figure.Figure at 0x7fb4dc175668>"
      ]
     },
     "metadata": {},
     "output_type": "display_data"
    },
    {
     "name": "stdout",
     "output_type": "stream",
     "text": [
      "Predictions...\n",
      "1) 100.00%:\tStop (=14)\n",
      "2) 0.00%:\tKeep right (=38)\n",
      "3) 0.00%:\tSpeed limit (20km/h) (=0)\n",
      "4) 0.00%:\tYield (=13)\n",
      "5) 0.00%:\tTurn left ahead (=34)\n",
      "\n"
     ]
    },
    {
     "data": {
      "image/png": "[encoded data removed]",
      "text/plain": [
       "<matplotlib.figure.Figure at 0x7fb5186d2a58>"
      ]
     },
     "metadata": {},
     "output_type": "display_data"
    },
    {
     "name": "stdout",
     "output_type": "stream",
     "text": [
      "Predictions...\n",
      "1) 86.04%:\tSpeed limit (120km/h) (=8)\n",
      "2) 8.39%:\tSpeed limit (20km/h) (=0)\n",
      "3) 4.14%:\tSpeed limit (60km/h) (=3)\n",
      "4) 1.34%:\tSpeed limit (70km/h) (=4)\n",
      "5) 0.08%:\tVehicles over 3.5 metric tons prohibited (=16)\n",
      "\n"
     ]
    },
    {
     "data": {
      "image/png": "[encoded data removed]",
      "text/plain": [
       "<matplotlib.figure.Figure at 0x7fb518549320>"
      ]
     },
     "metadata": {},
     "output_type": "display_data"
    },
    {
     "name": "stdout",
     "output_type": "stream",
     "text": [
      "Predictions...\n",
      "1) 47.52%:\tSpeed limit (100km/h) (=7)\n",
      "2) 24.69%:\tVehicles over 3.5 metric tons prohibited (=16)\n",
      "3) 17.30%:\tRoundabout mandatory (=40)\n",
      "4) 7.58%:\tRight-of-way at the next intersection (=11)\n",
      "5) 0.63%:\tDangerous curve to the left (=19)\n",
      "\n"
     ]
    },
    {
     "data": {
      "image/png": "[encoded data removed]",
      "text/plain": [
       "<matplotlib.figure.Figure at 0x7fb5187e6f28>"
      ]
     },
     "metadata": {},
     "output_type": "display_data"
    },
    {
     "name": "stdout",
     "output_type": "stream",
     "text": [
      "Predictions...\n",
      "1) 100.00%:\tPriority road (=12)\n",
      "2) 0.00%:\tYield (=13)\n",
      "3) 0.00%:\tRoundabout mandatory (=40)\n",
      "4) 0.00%:\tEnd of no passing (=41)\n",
      "5) 0.00%:\tNo entry (=17)\n",
      "\n"
     ]
    },
    {
     "data": {
      "image/png": "[encoded data removed]",
      "text/plain": [
       "<matplotlib.figure.Figure at 0x7fb4dc0f5828>"
      ]
     },
     "metadata": {},
     "output_type": "display_data"
    },
    {
     "name": "stdout",
     "output_type": "stream",
     "text": [
      "Predictions...\n",
      "1) 100.00%:\tRoad work (=25)\n",
      "2) 0.00%:\tDouble curve (=21)\n",
      "3) 0.00%:\tRoad narrows on the right (=24)\n",
      "4) 0.00%:\tBeware of ice/snow (=30)\n",
      "5) 0.00%:\tRight-of-way at the next intersection (=11)\n",
      "\n"
     ]
    },
    {
     "data": {
      "image/png": "[encoded data removed]",
      "text/plain": [
       "<matplotlib.figure.Figure at 0x7fb4bc7afe10>"
      ]
     },
     "metadata": {},
     "output_type": "display_data"
    },
    {
     "name": "stdout",
     "output_type": "stream",
     "text": [
      "Predictions...\n",
      "1) 100.00%:\tRight-of-way at the next intersection (=11)\n",
      "2) 0.00%:\tGeneral caution (=18)\n",
      "3) 0.00%:\tPedestrians (=27)\n",
      "4) 0.00%:\tRoundabout mandatory (=40)\n",
      "5) 0.00%:\tPriority road (=12)\n",
      "\n"
     ]
    },
    {
     "data": {
      "image/png": "[encoded data removed]",
      "text/plain": [
       "<matplotlib.figure.Figure at 0x7fb5186f0a20>"
      ]
     },
     "metadata": {},
     "output_type": "display_data"
    },
    {
     "name": "stdout",
     "output_type": "stream",
     "text": [
      "Predictions...\n",
      "1) 100.00%:\tTurn right ahead (=33)\n",
      "2) 0.00%:\tAhead only (=35)\n",
      "3) 0.00%:\tSpeed limit (70km/h) (=4)\n",
      "4) 0.00%:\tRoad narrows on the right (=24)\n",
      "5) 0.00%:\tSpeed limit (20km/h) (=0)\n",
      "\n"
     ]
    }
   ],
   "source": [
    "for i, row in enumerate(zip(top_5.values, top_5.indices)):\n",
    "    plt.figure(figsize=(1,1))\n",
    "    plt.imshow(X_extra[i].squeeze(), cmap='gray')\n",
    "    plt.show()\n",
    "    print(\"Predictions...\".format(i))\n",
    "    for j, (p, idx) in enumerate(np.array(row).T):\n",
    "        print(\"{}) {:.2f}%:\\t{} (={})\".format(j+1, p*100, sign_name[idx], int(idx)))\n",
    "    print()"
   ]
  },
  {
   "cell_type": "markdown",
   "metadata": {},
   "source": [
    "### Project Writeup\n",
    "\n",
    "Once you have completed the code implementation, document your results in a project writeup using this [template](https://github.com/udacity/CarND-Traffic-Sign-Classifier-Project/blob/master/writeup_template.md) as a guide. The writeup can be in a markdown or pdf file. "
   ]
  },
  {
   "cell_type": "markdown",
   "metadata": {},
   "source": [
    "> **Note**: Once you have completed all of the code implementations and successfully answered each question above, you may finalize your work by exporting the iPython Notebook as an HTML document. You can do this by using the menu above and navigating to  \\n\",\n",
    "    \"**File -> Download as -> HTML (.html)**. Include the finished document along with this notebook as your submission."
   ]
  },
  {
   "cell_type": "markdown",
   "metadata": {},
   "source": [
    "---\n",
    "\n",
    "## Step 4 (Optional): Visualize the Neural Network's State with Test Images\n",
    "\n",
    " This Section is not required to complete but acts as an additional excersise for understaning the output of a neural network's weights. While neural networks can be a great learning device they are often referred to as a black box. We can understand what the weights of a neural network look like better by plotting their feature maps. After successfully training your neural network you can see what it's feature maps look like by plotting the output of the network's weight layers in response to a test stimuli image. From these plotted feature maps, it's possible to see what characteristics of an image the network finds interesting. For a sign, maybe the inner network feature maps react with high activation to the sign's boundary outline or to the contrast in the sign's painted symbol.\n",
    "\n",
    " Provided for you below is the function code that allows you to get the visualization output of any tensorflow weight layer you want. The inputs to the function should be a stimuli image, one used during training or a new one you provided, and then the tensorflow variable name that represents the layer's state during the training process, for instance if you wanted to see what the [LeNet lab's](https://classroom.udacity.com/nanodegrees/nd013/parts/fbf77062-5703-404e-b60c-95b78b2f3f9e/modules/6df7ae49-c61c-4bb2-a23e-6527e69209ec/lessons/601ae704-1035-4287-8b11-e2c2716217ad/concepts/d4aca031-508f-4e0b-b493-e7b706120f81) feature maps looked like for it's second convolutional layer you could enter conv2 as the tf_activation variable.\n",
    "\n",
    "For an example of what feature map outputs look like, check out NVIDIA's results in their paper [End-to-End Deep Learning for Self-Driving Cars](https://devblogs.nvidia.com/parallelforall/deep-learning-self-driving-cars/) in the section Visualization of internal CNN State. NVIDIA was able to show that their network's inner weights had high activations to road boundary lines by comparing feature maps from an image with a clear path to one without. Try experimenting with a similar test to show that your trained network's weights are looking for interesting features, whether it's looking at differences in feature maps from images with or without a sign, or even what feature maps look like in a trained network vs a completely untrained one on the same sign image.\n",
    "\n",
    "<figure>\n",
    " <img src=\"visualize_cnn.png\" width=\"380\" alt=\"Combined Image\" />\n",
    " <figcaption>\n",
    " <p></p> \n",
    " <p style=\"text-align: center;\"> Your output should look something like this (above)</p> \n",
    " </figcaption>\n",
    "</figure>\n",
    " <p></p> \n"
   ]
  },
  {
   "cell_type": "code",
   "execution_count": null,
   "metadata": {
    "collapsed": true
   },
   "outputs": [],
   "source": [
    "### Visualize your network's feature maps here.\n",
    "### Feel free to use as many code cells as needed.\n",
    "\n",
    "# image_input: the test image being fed into the network to produce the feature maps\n",
    "# tf_activation: should be a tf variable name used during your training procedure that represents the calculated state of a specific weight layer\n",
    "# activation_min/max: can be used to view the activation contrast in more detail, by default matplot sets min and max to the actual min and max values of the output\n",
    "# plt_num: used to plot out multiple different weight feature map sets on the same block, just extend the plt number for each new feature map entry\n",
    "\n",
    "def outputFeatureMap(image_input, tf_activation, activation_min=-1, activation_max=-1 ,plt_num=1):\n",
    "    # Here make sure to preprocess your image_input in a way your network expects\n",
    "    # with size, normalization, ect if needed\n",
    "    # image_input =\n",
    "    # Note: x should be the same name as your network's tensorflow data placeholder variable\n",
    "    # If you get an error tf_activation is not defined it may be having trouble accessing the variable from inside a function\n",
    "    activation = tf_activation.eval(session=sess,feed_dict={x : image_input})\n",
    "    featuremaps = activation.shape[3]\n",
    "    plt.figure(plt_num, figsize=(15,15))\n",
    "    for featuremap in range(featuremaps):\n",
    "        plt.subplot(6,8, featuremap+1) # sets the number of feature maps to show on each row and column\n",
    "        plt.title('FeatureMap ' + str(featuremap)) # displays the feature map number\n",
    "        if activation_min != -1 & activation_max != -1:\n",
    "            plt.imshow(activation[0,:,:, featuremap], interpolation=\"nearest\", vmin =activation_min, vmax=activation_max, cmap=\"gray\")\n",
    "        elif activation_max != -1:\n",
    "            plt.imshow(activation[0,:,:, featuremap], interpolation=\"nearest\", vmax=activation_max, cmap=\"gray\")\n",
    "        elif activation_min !=-1:\n",
    "            plt.imshow(activation[0,:,:, featuremap], interpolation=\"nearest\", vmin=activation_min, cmap=\"gray\")\n",
    "        else:\n",
    "            plt.imshow(activation[0,:,:, featuremap], interpolation=\"nearest\", cmap=\"gray\")"
   ]
  },
  {
   "cell_type": "code",
   "execution_count": null,
   "metadata": {
    "collapsed": true
   },
   "outputs": [],
   "source": []
  }
 ],
 "metadata": {
  "anaconda-cloud": {},
  "kernelspec": {
   "display_name": "Python 3",
   "language": "python",
   "name": "python3"
  },
  "language_info": {
   "codemirror_mode": {
    "name": "ipython",
    "version": 3
   },
   "file_extension": ".py",
   "mimetype": "text/x-python",
   "name": "python",
   "nbconvert_exporter": "python",
   "pygments_lexer": "ipython3",
   "version": "3.5.2"
  },
  "widgets": {
   "state": {},
   "version": "1.1.2"
  }
 },
 "nbformat": 4,
 "nbformat_minor": 1
}
